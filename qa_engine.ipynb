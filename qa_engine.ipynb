{
 "cells": [
  {
   "cell_type": "code",
   "execution_count": 1,
   "id": "50d8f709-adfe-4c4f-88dc-2362442c3f62",
   "metadata": {
    "execution": {
     "iopub.execute_input": "2023-08-11T14:45:38.845348Z",
     "iopub.status.busy": "2023-08-11T14:45:38.844963Z",
     "iopub.status.idle": "2023-08-11T14:45:40.846645Z",
     "shell.execute_reply": "2023-08-11T14:45:40.845847Z",
     "shell.execute_reply.started": "2023-08-11T14:45:38.845312Z"
    }
   },
   "outputs": [],
   "source": [
    "from langchain.llms import HuggingFacePipeline\n",
    "from langchain import PromptTemplate, LLMChain"
   ]
  },
  {
   "cell_type": "code",
   "execution_count": 7,
   "id": "6dfb1f13-fce3-4237-b62d-6ebf60f9b372",
   "metadata": {
    "execution": {
     "iopub.execute_input": "2023-08-11T13:28:11.828122Z",
     "iopub.status.busy": "2023-08-11T13:28:11.827248Z",
     "iopub.status.idle": "2023-08-11T13:28:11.839879Z",
     "shell.execute_reply": "2023-08-11T13:28:11.837671Z",
     "shell.execute_reply.started": "2023-08-11T13:28:11.828046Z"
    }
   },
   "outputs": [],
   "source": [
    "import warnings\n",
    "warnings.filterwarnings('ignore')"
   ]
  },
  {
   "cell_type": "code",
   "execution_count": 2,
   "id": "3609189d-f8af-4108-bdf3-d236dc962148",
   "metadata": {
    "execution": {
     "iopub.execute_input": "2023-08-11T14:39:21.566172Z",
     "iopub.status.busy": "2023-08-11T14:39:21.565183Z",
     "iopub.status.idle": "2023-08-11T14:39:55.992784Z",
     "shell.execute_reply": "2023-08-11T14:39:55.991940Z",
     "shell.execute_reply.started": "2023-08-11T14:39:21.566112Z"
    }
   },
   "outputs": [
    {
     "name": "stderr",
     "output_type": "stream",
     "text": [
      "You are using the legacy behaviour of the <class 'transformers.models.t5.tokenization_t5.T5Tokenizer'>. This means that tokens that come after special tokens will not be properly handled. We recommend you to read the related pull request available at https://github.com/huggingface/transformers/pull/24565\n",
      "Device has 1 GPUs available. Provide device={deviceId} to `from_model_id` to use availableGPUs for execution. deviceId is -1 (default) for CPU and can be a positive integer associated with CUDA device id.\n"
     ]
    }
   ],
   "source": [
    "model_id, task = \"lmsys/fastchat-t5-3b-v1.0\", \"text2text-generation\"\n",
    "\n",
    "# the model will be downloaded on first use, if not cached in ~/.cache/huggingface/hub/\n",
    "\n",
    "model = HuggingFacePipeline.from_model_id(\n",
    "    model_id=model_id,\n",
    "    task=task,\n",
    "    model_kwargs={\n",
    "        \"temperature\": 0,\n",
    "        \"max_length\": 1000\n",
    "    },\n",
    ")"
   ]
  },
  {
   "cell_type": "code",
   "execution_count": 3,
   "id": "92648678-bf7d-460f-bac7-6f6df210efcb",
   "metadata": {
    "execution": {
     "iopub.execute_input": "2023-08-11T14:33:55.227586Z",
     "iopub.status.busy": "2023-08-11T14:33:55.226313Z",
     "iopub.status.idle": "2023-08-11T14:33:55.238251Z",
     "shell.execute_reply": "2023-08-11T14:33:55.236587Z",
     "shell.execute_reply.started": "2023-08-11T14:33:55.227504Z"
    }
   },
   "outputs": [],
   "source": [
    "template_text = \"\"\"\n",
    "{question}\n",
    "\"\"\"\n",
    "template = PromptTemplate(template=template_text, input_variables=[\"question\"])\n",
    "llm_chain = LLMChain(prompt=template, llm=model)"
   ]
  },
  {
   "cell_type": "code",
   "execution_count": 4,
   "id": "a65b6e81-1153-4ca8-be9a-3b2ebf1f6668",
   "metadata": {
    "execution": {
     "iopub.execute_input": "2023-08-11T14:10:59.925561Z",
     "iopub.status.busy": "2023-08-11T14:10:59.924711Z",
     "iopub.status.idle": "2023-08-11T14:12:14.136877Z",
     "shell.execute_reply": "2023-08-11T14:12:14.135659Z",
     "shell.execute_reply.started": "2023-08-11T14:10:59.925484Z"
    }
   },
   "outputs": [
    {
     "name": "stderr",
     "output_type": "stream",
     "text": [
      "/home/users/grzenkom/.pyenv/versions/3.10.12/envs/lang-chain-qa-env/lib/python3.10/site-packages/transformers/generation/utils.py:1270: UserWarning: You have modified the pretrained model configuration to control generation. This is a deprecated strategy to control generation and will be removed soon, in a future version. Please use a generation configuration file (see https://huggingface.co/docs/transformers/main_classes/text_generation )\n",
      "  warnings.warn(\n"
     ]
    },
    {
     "data": {
      "text/plain": [
       "'<pad> Sheryl  Crow  is  an  American  singer,  songwriter,  and  actress.  She  is  best  known  for  her  role  as  the  lead  singer  and  lead  guitarist  of  the  rock  band  The  Band wagon,  and  for  her  role  as  the  lead  singer  and  lead  guitarist  of  the  alternative  rock  band  The  Mamas  and  the  Papas.  Crow  has  also  been  a  member  of  the  band  The  Mamas  and  the  Papas  since  its  formation  in  1995.\\n'"
      ]
     },
     "execution_count": 4,
     "metadata": {},
     "output_type": "execute_result"
    }
   ],
   "source": [
    "llm_chain(\"Who is Sheryl Crow?\")[\"text\"]"
   ]
  },
  {
   "cell_type": "code",
   "execution_count": 4,
   "id": "6bcb45e0-cfbb-4a52-a9f8-51aa9958fe30",
   "metadata": {
    "execution": {
     "iopub.execute_input": "2023-08-11T14:33:59.170363Z",
     "iopub.status.busy": "2023-08-11T14:33:59.169157Z",
     "iopub.status.idle": "2023-08-11T14:34:07.249923Z",
     "shell.execute_reply": "2023-08-11T14:34:07.248200Z",
     "shell.execute_reply.started": "2023-08-11T14:33:59.170266Z"
    }
   },
   "outputs": [
    {
     "name": "stderr",
     "output_type": "stream",
     "text": [
      "/home/users/grzenkom/.pyenv/versions/3.10.12/envs/lang-chain-qa-env/lib/python3.10/site-packages/transformers/generation/utils.py:1270: UserWarning: You have modified the pretrained model configuration to control generation. This is a deprecated strategy to control generation and will be removed soon, in a future version. Please use a generation configuration file (see https://huggingface.co/docs/transformers/main_classes/text_generation )\n",
      "  warnings.warn(\n"
     ]
    },
    {
     "data": {
      "text/plain": [
       "'<pad> Sheryl  Crow  is  57  years  old.'"
      ]
     },
     "execution_count": 4,
     "metadata": {},
     "output_type": "execute_result"
    }
   ],
   "source": [
    "llm_chain(\"How old is Sheryl Crow?\")[\"text\"]"
   ]
  },
  {
   "cell_type": "code",
   "execution_count": 5,
   "id": "0eff06ea-4b51-4f7f-b2ee-97feedaaca87",
   "metadata": {
    "execution": {
     "iopub.execute_input": "2023-08-11T14:34:11.672745Z",
     "iopub.status.busy": "2023-08-11T14:34:11.672235Z",
     "iopub.status.idle": "2023-08-11T14:34:11.678579Z",
     "shell.execute_reply": "2023-08-11T14:34:11.677268Z",
     "shell.execute_reply.started": "2023-08-11T14:34:11.672714Z"
    }
   },
   "outputs": [],
   "source": [
    "template_text = \"\"\"\n",
    "{question}\n",
    "Explain step by step.\n",
    "\"\"\"\n",
    "template = PromptTemplate(template=template_text, input_variables=[\"question\"])\n",
    "llm_chain = LLMChain(prompt=template, llm=model)"
   ]
  },
  {
   "cell_type": "code",
   "execution_count": 6,
   "id": "bbd976c3-a02a-400a-a922-65b2f379be68",
   "metadata": {
    "execution": {
     "iopub.execute_input": "2023-08-11T14:34:16.839144Z",
     "iopub.status.busy": "2023-08-11T14:34:16.838527Z",
     "iopub.status.idle": "2023-08-11T14:34:45.918642Z",
     "shell.execute_reply": "2023-08-11T14:34:45.916845Z",
     "shell.execute_reply.started": "2023-08-11T14:34:16.839112Z"
    }
   },
   "outputs": [
    {
     "data": {
      "text/plain": [
       "'<pad> Sheryl Crow is a singer and songwriter who was born on February 28, 1969. So, Sheryl Crow is currently 57 years old. To find her age, you would need to subtract her age from her birth date. So, the answer is 57 years old.'"
      ]
     },
     "execution_count": 6,
     "metadata": {},
     "output_type": "execute_result"
    }
   ],
   "source": [
    "llm_chain(\"How old is Sheryl Crow?\")[\"text\"]"
   ]
  },
  {
   "cell_type": "code",
   "execution_count": 7,
   "id": "22b7fb6c-59d8-457b-a79a-9a2aa9319e8f",
   "metadata": {
    "execution": {
     "iopub.execute_input": "2023-08-11T14:35:38.220048Z",
     "iopub.status.busy": "2023-08-11T14:35:38.219582Z",
     "iopub.status.idle": "2023-08-11T14:35:52.398022Z",
     "shell.execute_reply": "2023-08-11T14:35:52.397100Z",
     "shell.execute_reply.started": "2023-08-11T14:35:38.220002Z"
    }
   },
   "outputs": [
    {
     "data": {
      "text/plain": [
       "'<pad> Sheryl Crow was born in 1969. So, in 2023, Sheryl Crow would be 69 years old. So the answer is 69.'"
      ]
     },
     "execution_count": 7,
     "metadata": {},
     "output_type": "execute_result"
    }
   ],
   "source": [
    "llm_chain(\"The year is 2023. How old is Sheryl Crow?\")[\"text\"]"
   ]
  },
  {
   "cell_type": "code",
   "execution_count": 2,
   "id": "a492a213-7be9-4014-86f5-b9b83939b47b",
   "metadata": {
    "execution": {
     "iopub.execute_input": "2023-08-11T15:32:44.293011Z",
     "iopub.status.busy": "2023-08-11T15:32:44.291810Z",
     "iopub.status.idle": "2023-08-11T15:33:02.603382Z",
     "shell.execute_reply": "2023-08-11T15:33:02.600778Z",
     "shell.execute_reply.started": "2023-08-11T15:32:44.292931Z"
    }
   },
   "outputs": [],
   "source": [
    "from langchain.document_loaders import WikipediaLoader\n",
    "\n",
    "loader = WikipediaLoader(\"Sheryl_Crow\")\n",
    "document = loader.load()"
   ]
  },
  {
   "cell_type": "code",
   "execution_count": 3,
   "id": "5c9045d0-044a-4e30-a1ed-a9eee09e9fd7",
   "metadata": {
    "execution": {
     "iopub.execute_input": "2023-08-11T15:33:04.551556Z",
     "iopub.status.busy": "2023-08-11T15:33:04.551170Z",
     "iopub.status.idle": "2023-08-11T15:33:04.564187Z",
     "shell.execute_reply": "2023-08-11T15:33:04.563278Z",
     "shell.execute_reply.started": "2023-08-11T15:33:04.551531Z"
    }
   },
   "outputs": [],
   "source": [
    "# https://python.langchain.com/docs/use_cases/question_answering/#step-1-load\n",
    "\n",
    "from langchain.text_splitter import RecursiveCharacterTextSplitter\n",
    "\n",
    "text_splitter = RecursiveCharacterTextSplitter(chunk_size = 500, chunk_overlap = 0)\n",
    "all_splits = text_splitter.split_documents(document)"
   ]
  },
  {
   "cell_type": "code",
   "execution_count": 1,
   "id": "75c4bc61-b25a-42fb-af4b-24313ea30677",
   "metadata": {
    "execution": {
     "iopub.execute_input": "2023-08-11T15:32:34.778613Z",
     "iopub.status.busy": "2023-08-11T15:32:34.778185Z",
     "iopub.status.idle": "2023-08-11T15:32:34.790394Z",
     "shell.execute_reply": "2023-08-11T15:32:34.789521Z",
     "shell.execute_reply.started": "2023-08-11T15:32:34.778586Z"
    }
   },
   "outputs": [],
   "source": [
    "# https://github.com/chroma-core/chroma/blob/main/chromadb/__init__.py#L57\n",
    "import sys\n",
    "__import__(\"pysqlite3\")\n",
    "sys.modules[\"sqlite3\"] = sys.modules.pop(\"pysqlite3\")"
   ]
  },
  {
   "cell_type": "code",
   "execution_count": 4,
   "id": "e6cb657d-4234-416d-a5b2-c76609e8ce5e",
   "metadata": {
    "execution": {
     "iopub.execute_input": "2023-08-11T15:33:09.583397Z",
     "iopub.status.busy": "2023-08-11T15:33:09.582974Z",
     "iopub.status.idle": "2023-08-11T15:33:24.059892Z",
     "shell.execute_reply": "2023-08-11T15:33:24.058651Z",
     "shell.execute_reply.started": "2023-08-11T15:33:09.583349Z"
    }
   },
   "outputs": [],
   "source": [
    "from langchain.embeddings import HuggingFaceEmbeddings\n",
    "from langchain.vectorstores import Chroma\n",
    "\n",
    "# https://integrations.langchain.com/embeddings\n",
    "hf_embeddings = HuggingFaceEmbeddings(\n",
    "    model_name=\"sentence-transformers/all-mpnet-base-v2\",\n",
    "    model_kwargs={\n",
    "        'device': 'cpu'\n",
    "    },\n",
    "    encode_kwargs={\n",
    "        'normalize_embeddings': False\n",
    "    }\n",
    ")\n",
    "\n",
    "vectorstore = Chroma.from_documents(documents=all_splits, embedding=hf_embeddings)"
   ]
  },
  {
   "cell_type": "code",
   "execution_count": 6,
   "id": "c9749fa9-ab7a-4cbe-b303-4fa5f0671c25",
   "metadata": {
    "execution": {
     "iopub.execute_input": "2023-08-11T15:34:35.624310Z",
     "iopub.status.busy": "2023-08-11T15:34:35.623725Z",
     "iopub.status.idle": "2023-08-11T15:34:35.694938Z",
     "shell.execute_reply": "2023-08-11T15:34:35.693784Z",
     "shell.execute_reply.started": "2023-08-11T15:34:35.624284Z"
    }
   },
   "outputs": [
    {
     "data": {
      "text/plain": [
       "[Document(page_content='Kid Rock), and \"Soak Up the Sun\" (2002).', metadata={'source': 'https://en.wikipedia.org/wiki/Sheryl_Crow', 'summary': 'Sheryl Suzanne Crow (born February 11, 1962) is an American musician, singer, and songwriter. Her music incorporates elements of rock, pop, country, folk, and blues. She has released eleven studio albums, five compilations, and three live albums, and contributed to several film soundtracks. Her most popular songs include \"All I Wanna Do\" (1994), \"Strong Enough\" (1994), \"If It Makes You Happy\" (1996), \"Everyday Is a Winding Road\" (1996), \"My Favorite Mistake\" (1998), \"Picture\" (2002, duet with Kid Rock), and \"Soak Up the Sun\" (2002).\\nCrow has sold more than 50 million albums worldwide and won nine Grammy Awards (out of 32 nominations) from the National Academy of Recording Arts and Sciences. As an actress, Crow has appeared on the television series 30 Rock, Cop Rock, GCB, Cougar Town, Jon Stewart\\'s and Stephen Colbert\\'s Rally to Restore Sanity and/or Fear, One Tree Hill, and NCIS: New Orleans. Crow was inducted into the Rock and Roll Hall of Fame in 2023.', 'title': 'Sheryl Crow'}),\n",
       " Document(page_content='== Rod Stewart version ==', metadata={'source': 'https://en.wikipedia.org/wiki/The_First_Cut_Is_the_Deepest', 'summary': '\"The First Cut Is the Deepest\" is a 1967 song written by British singer-songwriter Cat Stevens, originally released by P. P. Arnold in April 1967. Stevens\\'s own version originally appeared on his album New Masters in December 1967.\\nThe song has been widely recorded and has become a hit single for six different artists: Arnold, Stevens, Keith Hampshire (1973), Rod Stewart (1977), Papa Dee (1995), and Sheryl Crow (2003).', 'title': 'The First Cut Is the Deepest'}),\n",
       " Document(page_content=\"Crow has sold more than 50 million albums worldwide and won nine Grammy Awards (out of 32 nominations) from the National Academy of Recording Arts and Sciences. As an actress, Crow has appeared on the television series 30 Rock, Cop Rock, GCB, Cougar Town, Jon Stewart's and Stephen Colbert's Rally to Restore Sanity and/or Fear, One Tree Hill, and NCIS: New Orleans. Crow was inducted into the Rock and Roll Hall of Fame in 2023.\", metadata={'source': 'https://en.wikipedia.org/wiki/Sheryl_Crow', 'summary': 'Sheryl Suzanne Crow (born February 11, 1962) is an American musician, singer, and songwriter. Her music incorporates elements of rock, pop, country, folk, and blues. She has released eleven studio albums, five compilations, and three live albums, and contributed to several film soundtracks. Her most popular songs include \"All I Wanna Do\" (1994), \"Strong Enough\" (1994), \"If It Makes You Happy\" (1996), \"Everyday Is a Winding Road\" (1996), \"My Favorite Mistake\" (1998), \"Picture\" (2002, duet with Kid Rock), and \"Soak Up the Sun\" (2002).\\nCrow has sold more than 50 million albums worldwide and won nine Grammy Awards (out of 32 nominations) from the National Academy of Recording Arts and Sciences. As an actress, Crow has appeared on the television series 30 Rock, Cop Rock, GCB, Cougar Town, Jon Stewart\\'s and Stephen Colbert\\'s Rally to Restore Sanity and/or Fear, One Tree Hill, and NCIS: New Orleans. Crow was inducted into the Rock and Roll Hall of Fame in 2023.', 'title': 'Sheryl Crow'}),\n",
       " Document(page_content='The funk-infused track \"Story of Everything\" that includes a rap by Chuck D, guitar playing by Gary Clark Jr. and vocals by Andra Day was released on August 23, 2019, and focuses on the current state of America, in particular, the racial issues that still divide the country.', metadata={'source': 'https://en.wikipedia.org/wiki/Threads_(Sheryl_Crow_album)', 'summary': \"Threads is the eleventh studio album by American singer-songwriter Sheryl Crow. The album was released on August 30, 2019, by Big Machine Records. Threads is a collaborative album featuring many of Crow's musical friends, heroes and newer artists. Crow has stated that Threads will possibly be her final album to instead focus on releasing individual tracks. The album reached number 30 on the Billboard 200 albums chart in the US.\", 'title': 'Threads (Sheryl Crow album)'})]"
      ]
     },
     "execution_count": 6,
     "metadata": {},
     "output_type": "execute_result"
    }
   ],
   "source": [
    "vectorstore.similarity_search(\"Kid Rock\")"
   ]
  },
  {
   "cell_type": "code",
   "execution_count": 7,
   "id": "75189569-d296-453b-bec0-09c72b0727b2",
   "metadata": {
    "execution": {
     "iopub.execute_input": "2023-08-11T15:36:44.355561Z",
     "iopub.status.busy": "2023-08-11T15:36:44.355260Z",
     "iopub.status.idle": "2023-08-11T15:37:38.991664Z",
     "shell.execute_reply": "2023-08-11T15:37:38.990695Z",
     "shell.execute_reply.started": "2023-08-11T15:36:44.355538Z"
    }
   },
   "outputs": [
    {
     "name": "stderr",
     "output_type": "stream",
     "text": [
      "You are using the legacy behaviour of the <class 'transformers.models.t5.tokenization_t5.T5Tokenizer'>. This means that tokens that come after special tokens will not be properly handled. We recommend you to read the related pull request available at https://github.com/huggingface/transformers/pull/24565\n",
      "Device has 1 GPUs available. Provide device={deviceId} to `from_model_id` to use availableGPUs for execution. deviceId is -1 (default) for CPU and can be a positive integer associated with CUDA device id.\n",
      "/home/users/grzenkom/.pyenv/versions/3.10.12/envs/lang-chain-qa-env/lib/python3.10/site-packages/transformers/generation/utils.py:1270: UserWarning: You have modified the pretrained model configuration to control generation. This is a deprecated strategy to control generation and will be removed soon, in a future version. Please use a generation configuration file (see https://huggingface.co/docs/transformers/main_classes/text_generation )\n",
      "  warnings.warn(\n"
     ]
    },
    {
     "data": {
      "text/plain": [
       "{'query': 'How old is Sheryl Crow?',\n",
       " 'result': '<pad>  Sheryl  Suzanne  Crow  (born  February  11,  1962)  is  55  years  old.\\n'}"
      ]
     },
     "execution_count": 7,
     "metadata": {},
     "output_type": "execute_result"
    }
   ],
   "source": [
    "from langchain.chains import RetrievalQA\n",
    "from langchain.llms import HuggingFacePipeline\n",
    "\n",
    "model_id, task = \"lmsys/fastchat-t5-3b-v1.0\", \"text2text-generation\"\n",
    "\n",
    "model = HuggingFacePipeline.from_model_id(\n",
    "    model_id=model_id,\n",
    "    task=task,\n",
    "    model_kwargs={\n",
    "        \"temperature\": 0,\n",
    "        \"max_length\": 1000\n",
    "    },\n",
    ")\n",
    "\n",
    "qa_chain = RetrievalQA.from_chain_type(model, retriever=vectorstore.as_retriever())\n",
    "qa_chain({\"query\": \"How old is Sheryl Crow?\"})"
   ]
  },
  {
   "cell_type": "code",
   "execution_count": null,
   "id": "8d4bfe6a-264e-4c1e-806c-367d18d6a315",
   "metadata": {},
   "outputs": [],
   "source": []
  }
 ],
 "metadata": {
  "kernelspec": {
   "display_name": "Python 3 (ipykernel)",
   "language": "python",
   "name": "python3"
  },
  "language_info": {
   "codemirror_mode": {
    "name": "ipython",
    "version": 3
   },
   "file_extension": ".py",
   "mimetype": "text/x-python",
   "name": "python",
   "nbconvert_exporter": "python",
   "pygments_lexer": "ipython3",
   "version": "3.10.12"
  }
 },
 "nbformat": 4,
 "nbformat_minor": 5
}
